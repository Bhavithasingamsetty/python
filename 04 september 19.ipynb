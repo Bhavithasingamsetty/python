{
 "cells": [
  {
   "cell_type": "markdown",
   "metadata": {},
   "source": [
    "## Python Basics\n"
   ]
  },
  {
   "cell_type": "code",
   "execution_count": null,
   "metadata": {},
   "outputs": [],
   "source": [
    "# using for multi line commands\n",
    "''' nfhrjn\n",
    "nfihnfkj\n",
    "mjhrngngji '''\n",
    "#-> is using for single line command\n"
   ]
  },
  {
   "cell_type": "code",
   "execution_count": null,
   "metadata": {},
   "outputs": [],
   "source": [
    "## variable assignment\n",
    "n = 123\n",
    "n"
   ]
  },
  {
   "cell_type": "code",
   "execution_count": null,
   "metadata": {},
   "outputs": [],
   "source": [
    "n1 =n\n",
    "n"
   ]
  },
  {
   "cell_type": "code",
   "execution_count": null,
   "metadata": {},
   "outputs": [],
   "source": [
    "n2 = n1\n",
    "n1"
   ]
  },
  {
   "cell_type": "code",
   "execution_count": null,
   "metadata": {},
   "outputs": [],
   "source": [
    "n1=n2=n3=n\n",
    "n1"
   ]
  },
  {
   "cell_type": "code",
   "execution_count": null,
   "metadata": {},
   "outputs": [],
   "source": [
    "n=12\n",
    "n=10\n",
    "n=8\n",
    "print(n)\n",
    "n1=10\n",
    "n1"
   ]
  },
  {
   "cell_type": "markdown",
   "metadata": {},
   "source": [
    "## Type casting/type conversions\n"
   ]
  },
  {
   "cell_type": "code",
   "execution_count": null,
   "metadata": {},
   "outputs": [],
   "source": [
    "a=10 #int\n",
    "a\n"
   ]
  },
  {
   "cell_type": "code",
   "execution_count": null,
   "metadata": {},
   "outputs": [],
   "source": [
    "c=10.4 #float\n",
    "c"
   ]
  },
  {
   "cell_type": "code",
   "execution_count": null,
   "metadata": {},
   "outputs": [],
   "source": [
    "b='p'#string should be either single quotes or double quotes \n",
    "b"
   ]
  },
  {
   "cell_type": "code",
   "execution_count": null,
   "metadata": {},
   "outputs": [],
   "source": [
    "type(b)  #to check the data type\n"
   ]
  },
  {
   "cell_type": "code",
   "execution_count": null,
   "metadata": {},
   "outputs": [],
   "source": [
    "type(a)"
   ]
  },
  {
   "cell_type": "code",
   "execution_count": null,
   "metadata": {},
   "outputs": [],
   "source": [
    "type(c)"
   ]
  },
  {
   "cell_type": "code",
   "execution_count": null,
   "metadata": {},
   "outputs": [],
   "source": [
    "# type conversion:coverting one datatype into another\n",
    "x=10\n",
    "print(x)\n",
    "type(x)\n",
    "y=str(x)\n",
    "print(type(y))\n",
    "print(float(x))"
   ]
  },
  {
   "cell_type": "markdown",
   "metadata": {},
   "source": [
    "## Arithematic operations\n"
   ]
  },
  {
   "cell_type": "code",
   "execution_count": null,
   "metadata": {},
   "outputs": [],
   "source": [
    "## Basic Arithematic Operations\n",
    "## ADD\n",
    "a = 10\n",
    "b = 20\n",
    "print(a + b)\n",
    "## SUBTRACT \n",
    "k = -2\n",
    "j = -4\n",
    "print(k - j)\n",
    "## multiply\n",
    "c=(a+b)*(k-j)\n",
    "print(c)\n",
    "## division\n",
    "print(c/2)  #single module division will give the float value\n",
    "print(c//2)  #double module division will give the int value\n",
    "## modulus\n",
    "print(c%2)"
   ]
  },
  {
   "cell_type": "markdown",
   "metadata": {},
   "source": [
    "## Indentation In Python"
   ]
  },
  {
   "cell_type": "markdown",
   "metadata": {},
   "source": [
    "## Indentation In python plays a crucial role\n",
    "### Nothing but spaces  or tab\n",
    "### Conditional statements : to check whether the condition is True or False\n",
    "### If,else,if-else,nested if,nested else\n"
   ]
  },
  {
   "cell_type": "code",
   "execution_count": null,
   "metadata": {},
   "outputs": [],
   "source": [
    "## If condition\n",
    "## write a program to know how to use if condition\n",
    "n=23\n",
    "if(n%2==0):\n",
    "    print(\"even\")\n",
    "else:\n",
    "    print(\"odd\")"
   ]
  },
  {
   "cell_type": "code",
   "execution_count": null,
   "metadata": {},
   "outputs": [],
   "source": [
    "# program to find biggest number\n",
    "a=int(input())\n",
    "b=int(input())\n",
    "if a > b:\n",
    "    print(\"a is the biggest number\")\n",
    "else:\n",
    "    print(\"b is the biggest number\")\n",
    "    "
   ]
  },
  {
   "cell_type": "markdown",
   "metadata": {},
   "source": [
    "## String Slicing"
   ]
  },
  {
   "cell_type": "code",
   "execution_count": null,
   "metadata": {},
   "outputs": [],
   "source": [
    "s=\"python\"\n",
    "s\n"
   ]
  },
  {
   "cell_type": "code",
   "execution_count": null,
   "metadata": {},
   "outputs": [],
   "source": [
    "len(s) # len() is a method to know the length of the string\n"
   ]
  },
  {
   "cell_type": "code",
   "execution_count": null,
   "metadata": {},
   "outputs": [],
   "source": [
    "s[5]"
   ]
  },
  {
   "cell_type": "code",
   "execution_count": null,
   "metadata": {},
   "outputs": [],
   "source": [
    "s1=\"python program is a very powerful language\"\n",
    "len(s1)\n",
    "s1[3]"
   ]
  },
  {
   "cell_type": "code",
   "execution_count": null,
   "metadata": {},
   "outputs": [],
   "source": [
    "s1[-1]  #from last word we will get the first letter\n",
    "s1[-2]   #from last word we will get the first letter"
   ]
  },
  {
   "cell_type": "code",
   "execution_count": null,
   "metadata": {},
   "outputs": [],
   "source": [
    "k=\"name\"\n",
    "print(len(k))\n",
    "print(k[len(k)-1])\n",
    "print(k[len(k)-2])"
   ]
  },
  {
   "cell_type": "code",
   "execution_count": null,
   "metadata": {},
   "outputs": [],
   "source": [
    "s=\"python program a very efficient language\"\n",
    "print(s[0:6])\n",
    "print(s[39:100])\n",
    "len(s)\n",
    "print(s[-9:])\n",
    "print(s[1::2])  #using two slicing operators we printed even positon here 2 is the value ++2 have to increment\n",
    "print(s[::-1])  #print a sting reverse order\n",
    "print(s[::-3])  #print even position characters in reverse order"
   ]
  },
  {
   "cell_type": "markdown",
   "metadata": {},
   "source": [
    "## String methods and classes"
   ]
  },
  {
   "cell_type": "code",
   "execution_count": null,
   "metadata": {},
   "outputs": [],
   "source": [
    "dir(str)"
   ]
  },
  {
   "cell_type": "markdown",
   "metadata": {},
   "source": [
    "## String methods"
   ]
  },
  {
   "cell_type": "code",
   "execution_count": null,
   "metadata": {},
   "outputs": [],
   "source": [
    "# capitalize\n",
    "#changes the character of first to capital\n",
    "a=\"python welcome\"\n",
    "print(a)\n",
    "a=a.capitalize()\n",
    "print(a)\n",
    "\n",
    "#title \n",
    "#changes first letters of every word  into capital \n",
    "print(a.title())\n",
    "print(a)\n",
    "\n",
    "#upper\n",
    "#chnages the all character into upper case\n",
    "print(a.upper())\n",
    "print(a)\n",
    "\n",
    "#lower\n",
    "#changes the all character into lower case\n",
    "\n",
    "print(a.lower())\n",
    "print(a)"
   ]
  },
  {
   "cell_type": "code",
   "execution_count": null,
   "metadata": {},
   "outputs": [],
   "source": [
    "#isupper\n",
    "# which checks the string is in uppercase or not\n",
    "b='Ba'\n",
    "print(b.isupper())\n",
    "\n",
    "#islower\n",
    "# which checks the string is in lower case or not\n",
    "a='aa'\n",
    "print(a.islower())\n",
    "\n",
    "#isalpha\n",
    "#\n",
    "b=\"ewiuyhgHGH\"\n",
    "print(b.isalpha())\n",
    "\n",
    "\n",
    "#isnumeric()\n",
    "\n",
    "a=\"1323\"\n",
    "print(a.isnumeric())"
   ]
  },
  {
   "cell_type": "code",
   "execution_count": null,
   "metadata": {},
   "outputs": [],
   "source": [
    "w=input(\"Enter a string:\")\n",
    "if(w==w[::-1]):\n",
    "    print(\"palindrome\")\n",
    "else:\n",
    "    print(\"not a palindrome\")"
   ]
  },
  {
   "cell_type": "code",
   "execution_count": null,
   "metadata": {},
   "outputs": [],
   "source": [
    "# strip which igoner the space\n",
    "a=\"     python  \"\n",
    "print(a.strip())\n",
    "print(a.lstrip())\n",
    "print(a.rstrip())"
   ]
  },
  {
   "cell_type": "code",
   "execution_count": null,
   "metadata": {},
   "outputs": [],
   "source": [
    "#find \n",
    "print(a.find('p'))\n",
    "print(a.find('w')) #default value is -1"
   ]
  },
  {
   "cell_type": "code",
   "execution_count": null,
   "metadata": {},
   "outputs": [],
   "source": [
    "#count\n",
    "print(a.count('h'))\n",
    "print(a.count('g'))   #default value is 0\n"
   ]
  },
  {
   "cell_type": "code",
   "execution_count": null,
   "metadata": {},
   "outputs": [],
   "source": [
    "a=input()\n",
    "b=input()\n",
    "if(a==b):\n",
    "    print(\"true\")\n",
    "else:\n",
    "    print(\"false\")"
   ]
  },
  {
   "cell_type": "markdown",
   "metadata": {},
   "source": [
    "## Functions"
   ]
  },
  {
   "cell_type": "code",
   "execution_count": null,
   "metadata": {},
   "outputs": [],
   "source": [
    "#functions in python are defined by a keyword 'def'\n",
    "## write a program to find leap year\n",
    "\n",
    "def isleapyear(year):\n",
    "    if((year%400==0) or (year%4==0 and year%100!=0)):\n",
    "        print(\"leap year\")\n",
    "    else:\n",
    "        print(\"not a leap year\")\n",
    "y=int(input(\"Enter a year:\"))\n",
    "isleapyear(y)  "
   ]
  },
  {
   "cell_type": "code",
   "execution_count": null,
   "metadata": {},
   "outputs": [],
   "source": [
    "def greatest(a,b,c):\n",
    "    if(a>b and a>c):\n",
    "        print(\"a is bigger\")\n",
    "    elif(b>c):\n",
    "        print(\"b is bigger\")\n",
    "    else:\n",
    "        print(\"c is bigger\")\n",
    "a=input()\n",
    "b=input()\n",
    "c=input()\n",
    "greatest(a,b,c)"
   ]
  },
  {
   "cell_type": "code",
   "execution_count": null,
   "metadata": {},
   "outputs": [],
   "source": [
    "#number divisible by 10 but not 4\n",
    "def check_divisibility(a):\n",
    "    if(a%10==0 and a%4!=0):\n",
    "        print(\"true\")\n",
    "    else:\n",
    "        print(\"false\")\n",
    "        \n",
    "b=int(input())        \n",
    "check_divisibility(b)"
   ]
  },
  {
   "cell_type": "code",
   "execution_count": null,
   "metadata": {},
   "outputs": [],
   "source": [
    "def naturalnumbers(n):\n",
    "    for i in range(1,n+1,1):\n",
    "        print(i)\n",
    "naturalnumbers(10)"
   ]
  },
  {
   "cell_type": "code",
   "execution_count": null,
   "metadata": {},
   "outputs": [],
   "source": [
    "##write a program to print all even numbers between 1 to 20\n",
    "def evennum(n):\n",
    "    for i in range(1,n+1,1):\n",
    "        if(i%2==0):\n",
    "            print(i)\n",
    "evennum(20)"
   ]
  },
  {
   "cell_type": "code",
   "execution_count": null,
   "metadata": {},
   "outputs": [],
   "source": [
    "#print odd numbers skip 2 numbers\n",
    "def oddnum(n):\n",
    "    for i in range(1,n+1,3):\n",
    "        if(i%2!=0):\n",
    "            print(i)\n",
    "oddnum(40)"
   ]
  },
  {
   "cell_type": "code",
   "execution_count": null,
   "metadata": {},
   "outputs": [],
   "source": [
    "a=int(input())\n",
    "b=int(input())\n",
    "c=a**b\n",
    "if(c>100000):\n",
    "    print(\"buffer overflow\")\n",
    "else:\n",
    "    print(c%10)"
   ]
  },
  {
   "cell_type": "code",
   "execution_count": null,
   "metadata": {},
   "outputs": [],
   "source": [
    "def factors(n):\n",
    "    for i in range(1,n+1):\n",
    "        if(n%i==0):\n",
    "            print(i)\n",
    "factors(6)"
   ]
  },
  {
   "cell_type": "code",
   "execution_count": null,
   "metadata": {},
   "outputs": [],
   "source": [
    "def factorial(n):\n",
    "    if(n==0 or n==1):\n",
    "        return(1)\n",
    "    else:\n",
    "        return(n*factorial(n-1))\n",
    "y=int(input())\n",
    "factorial(y)\n"
   ]
  },
  {
   "cell_type": "code",
   "execution_count": null,
   "metadata": {},
   "outputs": [],
   "source": [
    "def factorial(n):\n",
    "    a=1\n",
    "    for i in range(1,n+1):\n",
    "        a=a *i\n",
    "    print(a)\n",
    "                \n",
    "factorial(7)\n",
    "        "
   ]
  },
  {
   "cell_type": "code",
   "execution_count": null,
   "metadata": {},
   "outputs": [],
   "source": [
    "a='sai prem chand'\n",
    "a.split()"
   ]
  },
  {
   "cell_type": "code",
   "execution_count": null,
   "metadata": {},
   "outputs": [],
   "source": [
    "a=input()\n",
    "b=a.split()\n",
    "print(\"no.of words:\",len(b))"
   ]
  },
  {
   "cell_type": "markdown",
   "metadata": {},
   "source": [
    "## List\n",
    "## Tuple\n",
    "## Dictionaries"
   ]
  },
  {
   "cell_type": "code",
   "execution_count": null,
   "metadata": {},
   "outputs": [],
   "source": [
    "#list is represented in []\n",
    "#list is muttable\n",
    "l=[1,3.3,\"sweety\",[1,2,3]]\n",
    "print(l)\n",
    "\n",
    "#data type\n",
    "print(type(l))\n",
    "\n",
    "#list with list indexing\n",
    "print(l[3][2])\n",
    "\n",
    "#Entire string elements\n",
    "print(l[:])"
   ]
  },
  {
   "cell_type": "code",
   "execution_count": null,
   "metadata": {},
   "outputs": [],
   "source": [
    "l=[1,2,3,5,8]\n",
    "n=0\n",
    "for i in l:\n",
    "    n=n+i\n",
    "print(n)\n",
    "print(sum(l)) #built in function 'sum'"
   ]
  },
  {
   "cell_type": "code",
   "execution_count": null,
   "metadata": {},
   "outputs": [],
   "source": [
    "# abs - omits negative value\n",
    "a=-2.2 \n",
    "print(abs(a))\n",
    "\n",
    "#round - ignores decimal value\n",
    "print(round(a))\n",
    "print(abs(round(a)))\n",
    "print(round(abs(a)))\n",
    "\n",
    "b=[1,'bnjwuj',456]\n",
    "print(len(b))\n",
    "s=[1,2,3,4,5]\n",
    "print(sum(s))\n",
    "print(chr(65))   # alphabet that belongs to the given ascii num\n",
    "print(ord('A'))\n",
    "print(bin(4))     #prints binary num\n",
    "print(hex(15))    #prints hexadecimal num\n",
    "\n"
   ]
  },
  {
   "cell_type": "code",
   "execution_count": null,
   "metadata": {},
   "outputs": [],
   "source": [
    "b=[99,3,45,5,34,77]\n",
    "print(sorted(b,reverse=True))   #print reverse of sorted list\n",
    "print(sorted(b))                 #sort elements in list\n",
    "print(max(b))                    #max builtin function\n",
    "print(min(b))                    # min built in function"
   ]
  },
  {
   "cell_type": "code",
   "execution_count": null,
   "metadata": {},
   "outputs": [],
   "source": [
    "print(b[1::2])"
   ]
  },
  {
   "cell_type": "code",
   "execution_count": null,
   "metadata": {},
   "outputs": [],
   "source": [
    "dir(list)"
   ]
  },
  {
   "cell_type": "code",
   "execution_count": null,
   "metadata": {},
   "outputs": [],
   "source": [
    "#append - which insert elements in last\n",
    "l=[]\n",
    "l.append(100)\n",
    "l.append(200)\n",
    "print(l)     # here list get empty for each run"
   ]
  },
  {
   "cell_type": "code",
   "execution_count": null,
   "metadata": {},
   "outputs": [],
   "source": [
    "l.append(300)\n",
    "l.append(500)\n",
    "print(l)"
   ]
  },
  {
   "cell_type": "code",
   "execution_count": null,
   "metadata": {},
   "outputs": [],
   "source": [
    "l.append([1,2])\n",
    "l"
   ]
  },
  {
   "cell_type": "code",
   "execution_count": null,
   "metadata": {},
   "outputs": [],
   "source": [
    "#extend       - add at end\n",
    "l.extend([1,2])\n",
    "l"
   ]
  },
  {
   "cell_type": "code",
   "execution_count": null,
   "metadata": {},
   "outputs": [],
   "source": [
    "name=[]\n",
    "age=[]\n",
    "for i in range(3):\n",
    "    a=input('enter name:')\n",
    "    name.append(a)\n",
    "    b=int(input('enter age:'))\n",
    "    age.append(b)\n",
    "for i in range(3):\n",
    "    print(name[i],age[i],end=\"  \")\n",
    "x=list(zip(name,age))\n",
    "\n",
    "    \n",
    "    "
   ]
  },
  {
   "cell_type": "code",
   "execution_count": null,
   "metadata": {},
   "outputs": [],
   "source": [
    "#index\n",
    "l=[1,2,3,4]\n",
    "l.insert(0,100)\n",
    "print(l)\n",
    "l.sort(reverse=True)\n",
    "print(l)\n",
    "l.pop(3)\n",
    "print(l)\n",
    "\n",
    "#remove\n",
    "l.remove(3)\n",
    "print(l)\n",
    "\n",
    "#clear\n",
    "l.clear()\n",
    "print(l)\n",
    "\n",
    "#count\n",
    "l=[1,2,3,5,5,5]\n",
    "print(l.count(5))\n",
    "\n",
    "#index\n",
    "print(l.index(5))\n",
    "\n",
    "#copy\n",
    "l=[1,2,3]\n",
    "s=l.copy()\n",
    "print(l)\n",
    "print(s)\n",
    "s[0]=100\n",
    "print(s)\n",
    "print(l)"
   ]
  },
  {
   "cell_type": "markdown",
   "metadata": {},
   "source": [
    "## Tuple\n",
    "## ()\n",
    "## immutable\n",
    "## methods: index,count\n",
    "## packing and unpacking"
   ]
  },
  {
   "cell_type": "code",
   "execution_count": null,
   "metadata": {},
   "outputs": [],
   "source": [
    "dir(tuple)"
   ]
  },
  {
   "cell_type": "code",
   "execution_count": null,
   "metadata": {},
   "outputs": [],
   "source": [
    "t=(1,2,3)\n",
    "print(t[0:])\n",
    "print(sum(t))\n",
    "print(len(t))\n",
    "print(min(t)) "
   ]
  },
  {
   "cell_type": "code",
   "execution_count": null,
   "metadata": {},
   "outputs": [],
   "source": [
    "a=(\"sweety\",'1323')\n",
    "(name,num)=a\n",
    "name"
   ]
  },
  {
   "cell_type": "markdown",
   "metadata": {},
   "source": [
    "## Dictionaries"
   ]
  },
  {
   "cell_type": "markdown",
   "metadata": {},
   "source": [
    "## {key:value,key1:value1}"
   ]
  },
  {
   "cell_type": "code",
   "execution_count": null,
   "metadata": {},
   "outputs": [],
   "source": [
    "dir(dict)"
   ]
  },
  {
   "cell_type": "code",
   "execution_count": null,
   "metadata": {},
   "outputs": [],
   "source": [
    "d={'name':'sai','roll':'13','age':19}\n",
    "print(d.values())\n",
    "print(d.keys())\n",
    "print(d.items())\n",
    "d[\"name\"]=\"sweety\"\n",
    "print(d)\n",
    "d[\"gender\"]=\"M\"\n",
    "print(d)\n",
    "d.get(\"gender\")"
   ]
  },
  {
   "cell_type": "code",
   "execution_count": null,
   "metadata": {},
   "outputs": [],
   "source": [
    "## check whether the given number is in range or not\n",
    "def num(lb,ub,n):\n",
    "    if(n>lb and n<ub):\n",
    "        print(\"n is in the range\")\n",
    "    else:\n",
    "        print(\"n is not in the range\")\n",
    "    \n",
    "lb=int(input())\n",
    "ub=int(input())\n",
    "n=int(input())\n",
    "num(lb,ub,n)\n",
    "   \n",
    "    \n",
    "    "
   ]
  },
  {
   "cell_type": "code",
   "execution_count": null,
   "metadata": {},
   "outputs": [],
   "source": [
    "## calculate the numsber of digits\n",
    "n=input()\n",
    "print(len(n))\n",
    "count=0\n",
    "for i in range()\n",
    "\n"
   ]
  },
  {
   "cell_type": "code",
   "execution_count": null,
   "metadata": {},
   "outputs": [],
   "source": [
    "def digits():\n",
    "    n=int(input())\n",
    "    count=0\n",
    "    while n > 0:\n",
    "        n=n//10\n",
    "        count+=1\n",
    "    print(count)\n",
    "digits()"
   ]
  },
  {
   "cell_type": "code",
   "execution_count": null,
   "metadata": {},
   "outputs": [],
   "source": [
    "#print the leap years within the given range\n",
    "def isleapyear(lb,ub):\n",
    "    for i in range(lb,ub):\n",
    "        if((i%400==0) or (i%4==0 and i%100!=0)):\n",
    "            print(i,\"leap year\")\n",
    "            \n",
    "lb=int(input())\n",
    "ub=int(input())\n",
    "isleapyear(lb,ub)  "
   ]
  },
  {
   "cell_type": "code",
   "execution_count": 3,
   "metadata": {},
   "outputs": [
    {
     "name": "stdout",
     "output_type": "stream",
     "text": [
      "10\n"
     ]
    },
    {
     "data": {
      "text/plain": [
       "False"
      ]
     },
     "execution_count": 3,
     "metadata": {},
     "output_type": "execute_result"
    }
   ],
   "source": [
    "def isprime(n):\n",
    "    for i in range(2,n):\n",
    "        if(n%i==0):\n",
    "            return False\n",
    "    return True\n",
    "n=int(input())\n",
    "isprime(n)"
   ]
  },
  {
   "cell_type": "code",
   "execution_count": 4,
   "metadata": {},
   "outputs": [
    {
     "name": "stdout",
     "output_type": "stream",
     "text": [
      "2\n",
      "50\n",
      "2\n",
      "3\n",
      "5\n",
      "7\n",
      "11\n",
      "13\n",
      "17\n",
      "19\n",
      "23\n",
      "29\n",
      "31\n",
      "37\n",
      "41\n",
      "43\n",
      "47\n"
     ]
    }
   ],
   "source": [
    "# print the prime numbers in a given range(2,50)\n",
    "def isprimeinrange(lb,ub):\n",
    "    for i in range(lb,ub+1):\n",
    "        if isprime(i):\n",
    "            print(i)\n",
    "    \n",
    "    \n",
    "lb=int(input())\n",
    "ub=int(input())\n",
    "isprimeinrange(lb,ub)\n"
   ]
  },
  {
   "cell_type": "code",
   "execution_count": null,
   "metadata": {},
   "outputs": [],
   "source": [
    "## check if a given string is equal to number or not\n"
   ]
  },
  {
   "cell_type": "code",
   "execution_count": 1,
   "metadata": {},
   "outputs": [
    {
     "name": "stdout",
     "output_type": "stream",
     "text": [
      "6\n"
     ]
    },
    {
     "ename": "UnboundLocalError",
     "evalue": "local variable 'sum' referenced before assignment",
     "output_type": "error",
     "traceback": [
      "\u001b[1;31m---------------------------------------------------------------------------\u001b[0m",
      "\u001b[1;31mUnboundLocalError\u001b[0m                         Traceback (most recent call last)",
      "\u001b[1;32m<ipython-input-1-99df56711f81>\u001b[0m in \u001b[0;36m<module>\u001b[1;34m()\u001b[0m\n\u001b[0;32m     10\u001b[0m \u001b[1;33m\u001b[0m\u001b[0m\n\u001b[0;32m     11\u001b[0m \u001b[0mn\u001b[0m\u001b[1;33m=\u001b[0m\u001b[0mint\u001b[0m\u001b[1;33m(\u001b[0m\u001b[0minput\u001b[0m\u001b[1;33m(\u001b[0m\u001b[1;33m)\u001b[0m\u001b[1;33m)\u001b[0m\u001b[1;33m\u001b[0m\u001b[0m\n\u001b[1;32m---> 12\u001b[1;33m \u001b[0mperfectnum\u001b[0m\u001b[1;33m(\u001b[0m\u001b[0mn\u001b[0m\u001b[1;33m)\u001b[0m\u001b[1;33m\u001b[0m\u001b[0m\n\u001b[0m",
      "\u001b[1;32m<ipython-input-1-99df56711f81>\u001b[0m in \u001b[0;36mperfectnum\u001b[1;34m(n)\u001b[0m\n\u001b[0;32m      3\u001b[0m     \u001b[1;32mfor\u001b[0m \u001b[0mi\u001b[0m \u001b[1;32min\u001b[0m \u001b[0mrange\u001b[0m\u001b[1;33m(\u001b[0m\u001b[1;36m1\u001b[0m\u001b[1;33m,\u001b[0m\u001b[0mn\u001b[0m\u001b[1;33m)\u001b[0m\u001b[1;33m:\u001b[0m\u001b[1;33m\u001b[0m\u001b[0m\n\u001b[0;32m      4\u001b[0m         \u001b[1;32mif\u001b[0m\u001b[1;33m(\u001b[0m\u001b[0mn\u001b[0m\u001b[1;33m%\u001b[0m\u001b[0mi\u001b[0m\u001b[1;33m==\u001b[0m\u001b[1;36m0\u001b[0m\u001b[1;33m)\u001b[0m\u001b[1;33m:\u001b[0m\u001b[1;33m\u001b[0m\u001b[0m\n\u001b[1;32m----> 5\u001b[1;33m             \u001b[0msum\u001b[0m \u001b[1;33m=\u001b[0m\u001b[0msum\u001b[0m\u001b[1;33m+\u001b[0m\u001b[1;36m1\u001b[0m\u001b[1;33m\u001b[0m\u001b[0m\n\u001b[0m\u001b[0;32m      6\u001b[0m     \u001b[1;32mif\u001b[0m\u001b[1;33m(\u001b[0m\u001b[0msum\u001b[0m\u001b[1;33m==\u001b[0m\u001b[0mn\u001b[0m\u001b[1;33m)\u001b[0m\u001b[1;33m:\u001b[0m\u001b[1;33m\u001b[0m\u001b[0m\n\u001b[0;32m      7\u001b[0m         \u001b[0mprint\u001b[0m\u001b[1;33m(\u001b[0m\u001b[1;34m\"It is a perfect number\"\u001b[0m\u001b[1;33m)\u001b[0m\u001b[1;33m\u001b[0m\u001b[0m\n",
      "\u001b[1;31mUnboundLocalError\u001b[0m: local variable 'sum' referenced before assignment"
     ]
    }
   ],
   "source": [
    "## perfect number\n",
    "def perfectnum(n):\n",
    "    for i in range(1,n):\n",
    "        if(n%i==0):\n",
    "            sum =sum+1\n",
    "    if(sum==n):\n",
    "        print(\"It is a perfect number\")\n",
    "    else:\n",
    "        print(\"Not a perfect number \")\n",
    "    \n",
    "n=int(input())\n",
    "perfectnum(n)"
   ]
  },
  {
   "cell_type": "code",
   "execution_count": null,
   "metadata": {},
   "outputs": [],
   "source": []
  }
 ],
 "metadata": {
  "kernelspec": {
   "display_name": "Python 3",
   "language": "python",
   "name": "python3"
  },
  "language_info": {
   "codemirror_mode": {
    "name": "ipython",
    "version": 3
   },
   "file_extension": ".py",
   "mimetype": "text/x-python",
   "name": "python",
   "nbconvert_exporter": "python",
   "pygments_lexer": "ipython3",
   "version": "3.6.5"
  }
 },
 "nbformat": 4,
 "nbformat_minor": 2
}
