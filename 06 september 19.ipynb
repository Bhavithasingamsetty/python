{
 "cells": [
  {
   "cell_type": "markdown",
   "metadata": {},
   "source": [
    "## Day objectives\n",
    "1.Creating contacts using dictionaries\n",
    "\n",
    "2.Searching for a contact\n",
    "\n",
    "3.Packages and modules\n",
    "\n",
    "4.Regular expressions and \n",
    "\n",
    "5.File Handling\n"
   ]
  },
  {
   "cell_type": "code",
   "execution_count": null,
   "metadata": {},
   "outputs": [],
   "source": [
    "## Adding a contact\n",
    "## name ,phone number\n",
    "contacts={}\n",
    "def addcontact(name,phno):\n",
    "    if name not in contacts:\n",
    "        contacts[name]=phno\n",
    "        print(\"contact added successfully\")\n",
    "    else:\n",
    "        print(\"contact already exits\")\n",
    "addcontact('name1','9986234678')\n",
    "addcontact('name2','9553755924')"
   ]
  },
  {
   "cell_type": "code",
   "execution_count": null,
   "metadata": {},
   "outputs": [],
   "source": [
    "contacts"
   ]
  },
  {
   "cell_type": "code",
   "execution_count": null,
   "metadata": {},
   "outputs": [],
   "source": [
    "## Searching a contact\n",
    "##using key 'name'\n",
    "def searchcontact(name):\n",
    "    if name in contacts:\n",
    "        print(name,\":\",contacts[name])\n",
    "    else:\n",
    "        print(\"doesnot exists\")\n",
    "searchcontact('name1')"
   ]
  },
  {
   "cell_type": "code",
   "execution_count": null,
   "metadata": {},
   "outputs": [],
   "source": [
    "searchcontact('name3')"
   ]
  },
  {
   "cell_type": "code",
   "execution_count": null,
   "metadata": {},
   "outputs": [],
   "source": [
    "##merging two contacts\n",
    "##using update method\n",
    "def mergecontacts(newcontacts):\n",
    "    contacts.update(newcontacts)\n",
    "    print(len(newcontacts.keys()),\"contacts added successfully\")\n",
    "          \n",
    "newcontacts= {'name2 ': 9987654321,'name3' : 123456789}\n",
    "mergecontacts(newcontacts)"
   ]
  },
  {
   "cell_type": "code",
   "execution_count": null,
   "metadata": {},
   "outputs": [],
   "source": [
    "## dictionary :mobilecontacts\n",
    "## add a contact\n",
    "##key :'a',value:9989870478\n",
    "##another dictionary:apple mobile\n",
    "##key:'b',value:9989870478\n",
    "mobilecontacts={}\n",
    "def addcontact(name,phno):\n",
    "    if name not in mobilecontacts:\n",
    "        mobilecontacts[name]=phno\n",
    "        print(\"contact added successfully\")\n",
    "    else:\n",
    "        print(\"doesnot exists\")\n",
    "addcontact('a','9989870478')\n"
   ]
  },
  {
   "cell_type": "code",
   "execution_count": null,
   "metadata": {},
   "outputs": [],
   "source": [
    "applemobile={}\n",
    "def addcontact(name,phno):\n",
    "    if name not in applemobile:\n",
    "        applemobile[name]=phno\n",
    "        print(\"contact added successfully\")\n",
    "    else:\n",
    "        print(\"doesnot exists\")\n",
    "addcontact('b','9989870478')"
   ]
  },
  {
   "cell_type": "markdown",
   "metadata": {},
   "source": [
    "## Package and Module\n",
    "##### package->collection of modules\n",
    "##### module-> collection of functions"
   ]
  },
  {
   "cell_type": "code",
   "execution_count": null,
   "metadata": {},
   "outputs": [],
   "source": [
    "from math import floor\n",
    "floor(123.4567898)"
   ]
  },
  {
   "cell_type": "code",
   "execution_count": null,
   "metadata": {},
   "outputs": [],
   "source": [
    "from packages.numerical import isprime\n",
    "isprime(5)"
   ]
  },
  {
   "cell_type": "code",
   "execution_count": null,
   "metadata": {},
   "outputs": [],
   "source": [
    "##check po or neg or zero me\n",
    "n=int(input())\n",
    "if(n<0):\n",
    "    print(\"neg\")\n",
    "elif(n>0):\n",
    "    print(\"po\")\n",
    "elif(n==0):\n",
    "    print(\"ze\")\n",
    "else:\n",
    "    print(\"no number\")"
   ]
  },
  {
   "cell_type": "code",
   "execution_count": null,
   "metadata": {},
   "outputs": [],
   "source": [
    "## check alphabet  me\n",
    "ch=input()\n",
    "if(ch>='a' and ch<='z') or(ch>='A' and ch<='Z'):\n",
    "    print(\"alphabet\")\n",
    "else:\n",
    "    (\"not an alpahbet\")\n",
    "    "
   ]
  },
  {
   "cell_type": "code",
   "execution_count": null,
   "metadata": {},
   "outputs": [],
   "source": [
    "## vowels or consonants  me\n",
    "ch=input()\n",
    "if(ch=='a'or ch=='e' or ch=='i' or ch=='o' or ch =='u') or (ch=='A'or ch=='E' or ch=='I' or ch=='O' or ch=='U'):\n",
    "    print('vowel')\n",
    "else:\n",
    "    print('consonant')\n",
    "\n"
   ]
  },
  {
   "cell_type": "code",
   "execution_count": null,
   "metadata": {},
   "outputs": [],
   "source": [
    "from packages.numerical import check\n",
    "check(10,30)"
   ]
  },
  {
   "cell_type": "code",
   "execution_count": null,
   "metadata": {},
   "outputs": [],
   "source": [
    "##calculate length of a string  me\n",
    "n=input()\n",
    "count= 0\n",
    "for i in n:\n",
    "    count=count+1\n",
    "print(count)"
   ]
  },
  {
   "cell_type": "code",
   "execution_count": null,
   "metadata": {},
   "outputs": [],
   "source": [
    "##swap me\n",
    "n=int(input())\n",
    "m=int(input())\n",
    "temp=n\n",
    "n=m\n",
    "m=temp\n",
    "print(n,m)"
   ]
  },
  {
   "cell_type": "markdown",
   "metadata": {},
   "source": [
    "### Regular Expression\n",
    "#### phone number:pattern=^[6-9][0-9]{9}$"
   ]
  },
  {
   "cell_type": "code",
   "execution_count": null,
   "metadata": {},
   "outputs": [],
   "source": [
    "## function for phonenumber validation using\n",
    "## Regular expression\n",
    "import re\n",
    "def phonenumbervalidator(number):\n",
    "    pattern='^[6-9][0-9]{9}$'           ## pattern\n",
    "    if re.match(pattern,number,):       ## match is comparsion method\n",
    "        print(\"valid\")\n",
    "    else:\n",
    "        print(\"invalid\")\n",
    "phonenumbervalidator('9456789023')"
   ]
  },
  {
   "cell_type": "code",
   "execution_count": null,
   "metadata": {},
   "outputs": [],
   "source": [
    "import re\n",
    "def phonenumbervalidator(number):\n",
    "    number=str(number)\n",
    "    pattern='^[6-9][0-9]{9}$'           ## pattern\n",
    "    if re.match(pattern,number):       ## match is comparsion method\n",
    "        print(\"valid\")\n",
    "    else:\n",
    "        print(\"invalid\")\n",
    "phonenumbervalidator(3456789023)"
   ]
  },
  {
   "cell_type": "code",
   "execution_count": null,
   "metadata": {},
   "outputs": [],
   "source": [
    "## pattern for email validation\n",
    "## Email id:user name,domain,extension\n",
    "##pattern:'^[a-z0-9][a-z0-9_.]{3,18}    [@][a-z0-9]{4,18}   [.][a-z]{2,4}\n",
    "import re\n",
    "def emailvalidator(email):\n",
    "    email=str(email)\n",
    "    pattern='^[a-z0-9][a-z0-9_.]{3,18}[@][a-z0-9]{4,18}[.][a-z]{2,4}$'\n",
    "    if  re.match(pattern,email):\n",
    "        print('valid')\n",
    "    else:\n",
    "        print('invalid')\n",
    "emailvalidator('singamsetty@gmail.com')"
   ]
  },
  {
   "cell_type": "markdown",
   "metadata": {},
   "source": [
    "## File Handling\n",
    "- It's a collection of related information\n",
    "- Basics steps\n",
    "   - opening a file\n",
    "   - performing  operations(read,write,append)\n",
    "   - closing file"
   ]
  },
  {
   "cell_type": "markdown",
   "metadata": {},
   "source": [
    "## syntax:file_object=open(\"filepath\",mode)"
   ]
  },
  {
   "cell_type": "code",
   "execution_count": null,
   "metadata": {},
   "outputs": [],
   "source": [
    "s = open(\"datafiles/data.txt\",\"r\")\n",
    "print(s.read())\n",
    "s.close()"
   ]
  },
  {
   "cell_type": "code",
   "execution_count": null,
   "metadata": {},
   "outputs": [],
   "source": [
    "with open(\"datafiles/data.txt\",\"w\") as s:\n",
    "    s.write(\"line 5\")"
   ]
  },
  {
   "cell_type": "code",
   "execution_count": null,
   "metadata": {},
   "outputs": [],
   "source": [
    "n=int(input())\n",
    "sum=0\n",
    "sum1=0\n",
    "for i in range(n+1):\n",
    "    sum=sum+i\n",
    "print(sum)\n",
    "sum1=sum\n",
    "sum2=0\n",
    "print(\"last digit in sum=\",sum%10)\n",
    "count=0\n",
    "sum2=sum\n",
    "while(sum2>0):\n",
    "  sum2=sum2//10\n",
    "  count+=1\n",
    "count1=count\n",
    "while(sum1>0):\n",
    "    sum1=sum1//10   \n",
    "    n=sum1%10\n",
    "    count-=1\n",
    "    if(count==1):\n",
    "        print(\"first digit=\",n)\n",
    "        break\n",
    "\n"
   ]
  },
  {
   "cell_type": "code",
   "execution_count": null,
   "metadata": {},
   "outputs": [],
   "source": []
  },
  {
   "cell_type": "code",
   "execution_count": null,
   "metadata": {},
   "outputs": [],
   "source": [
    "with open(\"datafiles/data1.txt\",\"w\") as s:\n",
    "    s.write(\"line 5\")"
   ]
  },
  {
   "cell_type": "code",
   "execution_count": null,
   "metadata": {},
   "outputs": [],
   "source": [
    "with open(\"datafiles/data.txt\",'a+') as s:\n",
    "    s.read()\n",
    "    print(s.tell())\n",
    "    s.write(\"line\\nline3\\nline4\")\n",
    "    print(s.tell())\n",
    "    s.seek(0)\n",
    "    print(s.tell())"
   ]
  },
  {
   "cell_type": "code",
   "execution_count": null,
   "metadata": {},
   "outputs": [],
   "source": [
    "with open(\"datafiles/data.txt\",\"a+\") as s:\n",
    "    s.read()\n",
    "    print(s.tell())\n",
    "    s.write(\"\\nline 2\" )\n",
    "    print(s.tell())"
   ]
  },
  {
   "cell_type": "code",
   "execution_count": null,
   "metadata": {},
   "outputs": [],
   "source": [
    "with open(\"datafiles/data.txt\") as s:\n",
    "    data=s.read()\n",
    "    for line in data:\n",
    "        word =line.split()\n",
    "        print(word,end=\"\")"
   ]
  },
  {
   "cell_type": "code",
   "execution_count": null,
   "metadata": {},
   "outputs": [],
   "source": [
    "with open (\"datafiles/data.txt\",'r') as f:\n",
    "    fh=f.read()\n",
    "    words=fh.split('$')\n",
    "    print(words)"
   ]
  },
  {
   "cell_type": "code",
   "execution_count": null,
   "metadata": {},
   "outputs": [],
   "source": [
    "#reads the file and return the data in file using functions\n",
    "\n",
    "def readfile(filepath):\n",
    "       with open(filepath,'r') as f:\n",
    "        filedata=f.read()\n",
    "        return filedata\n",
    "filepath='datafiles/data1.txt'\n",
    "print(readfile(filepath))"
   ]
  },
  {
   "cell_type": "code",
   "execution_count": null,
   "metadata": {},
   "outputs": [],
   "source": [
    "def linecount(filepath):\n",
    "    count=0\n",
    "    with open(filepath,'r') as f:\n",
    "        for i in f:\n",
    "            count+=1\n",
    "        return count\n",
    "filepath='datafiles/data1.txt'\n",
    "print(linecount(filepath))"
   ]
  },
  {
   "cell_type": "code",
   "execution_count": null,
   "metadata": {},
   "outputs": [],
   "source": [
    "import re\n",
    "def wordcount(filepath):\n",
    "    pattern='[ ]'\n",
    "    filedata=readfile(filepath)\n",
    "    count=len(re.split(pattern,filedata))\n",
    "    return count\n",
    "filepath='datafiles/data1.txt'\n",
    "print(linecount(filepath))\n",
    "wordcount(filepath)"
   ]
  },
  {
   "cell_type": "code",
   "execution_count": null,
   "metadata": {},
   "outputs": [],
   "source": [
    "import re\n",
    "def wordcount(filepath):\n",
    "    pattern='[ \\n ]'\n",
    "    filedata=readfile(filepath)\n",
    "    count=len(re.split(pattern,filedata))\n",
    "    return count\n",
    "filepath='datafiles/data1.txt'\n",
    "print(linecount(filepath))\n",
    "wordcount(filepath)"
   ]
  },
  {
   "cell_type": "code",
   "execution_count": null,
   "metadata": {},
   "outputs": [],
   "source": [
    "import re\n",
    "def uniqueword(filepath):\n",
    "    with open('datafiles/data1.txt','r') as f:\n",
    "        fh= f.read()\n",
    "        words=fh.split()\n",
    "        print(words)\n",
    "    item=[]\n",
    "    for i in words:\n",
    "        if i   not in item:\n",
    "            item.append(i)\n",
    "    print(item)\n",
    "    item1=item\n",
    "    #for i in item:\n",
    "            if i  in item:\n",
    "                item.append(i)\n",
    "            print(item1)\n",
    "uniqueword(\"datafiles/data1.txt\")"
   ]
  },
  {
   "cell_type": "code",
   "execution_count": 1,
   "metadata": {},
   "outputs": [
    {
     "name": "stdout",
     "output_type": "stream",
     "text": [
      "101\n",
      "999\n",
      "last digit in sum= 0\n"
     ]
    },
    {
     "data": {
      "text/plain": [
       "('sum=', 1100)"
      ]
     },
     "execution_count": 1,
     "metadata": {},
     "output_type": "execute_result"
    }
   ],
   "source": [
    "def add(a,b):\n",
    "    if(a>=100 and b<=1000):\n",
    "        x=a+b\n",
    "       \n",
    "        sum=x\n",
    "        print(\"last digit in sum=\",sum%10)\n",
    "        return ('sum=',x)\n",
    "    else:\n",
    "        return ('no')\n",
    "\n",
    "    \n",
    "          \n",
    "a=int(input())\n",
    "b=int(input())\n",
    "add(a,b)"
   ]
  },
  {
   "cell_type": "code",
   "execution_count": 17,
   "metadata": {},
   "outputs": [
    {
     "name": "stdout",
     "output_type": "stream",
     "text": [
      "3\n",
      "5\n",
      "7\n",
      "3 x 5 = 15\n",
      "3 x 6 = 18\n",
      "3 x 7 = 21\n"
     ]
    }
   ],
   "source": [
    "##tasks\n",
    "## program for generating multiplication of table\n",
    "def table(n,lb,ub):\n",
    "    for i in range(lb,ub+1):\n",
    "        ans=n*i\n",
    "        print(n, 'x',i,'=' ,ans)\n",
    "              \n",
    "n=int(input())\n",
    "lb=int(input())\n",
    "ub=int(input())\n",
    "\n",
    "table(n,lb,ub)"
   ]
  },
  {
   "cell_type": "code",
   "execution_count": 20,
   "metadata": {},
   "outputs": [
    {
     "ename": "NameError",
     "evalue": "name 'l' is not defined",
     "output_type": "error",
     "traceback": [
      "\u001b[1;31m---------------------------------------------------------------------------\u001b[0m",
      "\u001b[1;31mNameError\u001b[0m                                 Traceback (most recent call last)",
      "\u001b[1;32m<ipython-input-20-0283308ec1e1>\u001b[0m in \u001b[0;36m<module>\u001b[1;34m()\u001b[0m\n\u001b[0;32m     10\u001b[0m     \u001b[0mprint\u001b[0m\u001b[1;33m(\u001b[0m\u001b[0mmin\u001b[0m\u001b[1;33m(\u001b[0m\u001b[0ml\u001b[0m\u001b[1;33m)\u001b[0m\u001b[1;33m)\u001b[0m\u001b[1;33m\u001b[0m\u001b[0m\n\u001b[0;32m     11\u001b[0m \u001b[1;33m\u001b[0m\u001b[0m\n\u001b[1;32m---> 12\u001b[1;33m \u001b[0mminmax\u001b[0m\u001b[1;33m(\u001b[0m\u001b[0ml\u001b[0m\u001b[1;33m)\u001b[0m\u001b[1;33m\u001b[0m\u001b[0m\n\u001b[0m\u001b[0;32m     13\u001b[0m \u001b[1;33m\u001b[0m\u001b[0m\n\u001b[0;32m     14\u001b[0m \u001b[1;33m\u001b[0m\u001b[0m\n",
      "\u001b[1;31mNameError\u001b[0m: name 'l' is not defined"
     ]
    }
   ],
   "source": [
    "#design a porgram to find maximum ,min\n",
    "#average of numbers in alist\n",
    "#i/p =[1,10,9,9,8,8]\n",
    "#o/p=1.find unique list\n",
    "# 2.find max and min\n",
    "#3.find average\n",
    "def minmax(l):\n",
    "    l=[1,10,9,9,8,8]\n",
    "    for i in l:\n",
    "    li=[]\n",
    "    if i not in l:\n",
    "        \n",
    "\n",
    "\n",
    "\n"
   ]
  },
  {
   "cell_type": "code",
   "execution_count": null,
   "metadata": {},
   "outputs": [],
   "source": [
    "## write a program for liner search in alist\n",
    "#if key is found print \"1\"\n",
    "#else print \"-1\"\n",
    "#i/p l=[10,9,8,7,6],5\n",
    "#o/p 1"
   ]
  },
  {
   "cell_type": "code",
   "execution_count": 21,
   "metadata": {},
   "outputs": [
    {
     "name": "stdout",
     "output_type": "stream",
     "text": [
      "1.0\n",
      "2.0\n",
      "2.23606797749979\n",
      "2.449489742783178\n",
      "8.831760866327848\n",
      "3.0\n"
     ]
    }
   ],
   "source": [
    "#find the  square root of a number inlist with out using math package \n",
    "def sqrt():\n",
    "    l=[1,4,5,6,78,9]\n",
    "    for i in l:\n",
    "        j=i**(0.5)\n",
    "        print(j)\n",
    "        \n",
    "sqrt()"
   ]
  },
  {
   "cell_type": "code",
   "execution_count": null,
   "metadata": {},
   "outputs": [],
   "source": [
    "#using a regular expression\n",
    "#add a name,phonenumber and email to contacts\n",
    "#dictionary\n",
    "\n",
    "import re\n",
    "def contactdictionary(name,phonenum,email):\n",
    "    f"
   ]
  },
  {
   "cell_type": "code",
   "execution_count": null,
   "metadata": {},
   "outputs": [],
   "source": []
  },
  {
   "cell_type": "code",
   "execution_count": null,
   "metadata": {},
   "outputs": [],
   "source": []
  },
  {
   "cell_type": "code",
   "execution_count": null,
   "metadata": {},
   "outputs": [],
   "source": []
  }
 ],
 "metadata": {
  "kernelspec": {
   "display_name": "Python 3",
   "language": "python",
   "name": "python3"
  },
  "language_info": {
   "codemirror_mode": {
    "name": "ipython",
    "version": 3
   },
   "file_extension": ".py",
   "mimetype": "text/x-python",
   "name": "python",
   "nbconvert_exporter": "python",
   "pygments_lexer": "ipython3",
   "version": "3.6.5"
  }
 },
 "nbformat": 4,
 "nbformat_minor": 2
}
